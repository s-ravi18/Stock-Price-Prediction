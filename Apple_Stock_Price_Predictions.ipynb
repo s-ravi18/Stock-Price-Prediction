{
  "nbformat": 4,
  "nbformat_minor": 0,
  "metadata": {
    "colab": {
      "name": "Apple Stock Price Predictions.ipynb",
      "provenance": [],
      "collapsed_sections": []
    },
    "kernelspec": {
      "name": "python3",
      "display_name": "Python 3"
    },
    "language_info": {
      "name": "python"
    },
    "accelerator": "GPU"
  },
  "cells": [
    {
      "cell_type": "code",
      "metadata": {
        "id": "NRcVPdXnkpvH"
      },
      "source": [
        "# Predicting the future price of Apple Company using LSTM:"
      ],
      "execution_count": null,
      "outputs": []
    },
    {
      "cell_type": "code",
      "metadata": {
        "id": "VhqytIzRkv4n"
      },
      "source": [
        "#Importing the reqd libraries:\n",
        "import numpy as np\n",
        "import matplotlib.pyplot as plt\n",
        "import pandas as pd\n",
        "import tensorflow as tf\n",
        "from tensorflow.keras.models import Sequential\n",
        "from tensorflow.keras.layers import LSTM,Dropout,Dense\n",
        "\n",
        "from sklearn.preprocessing import MinMaxScaler"
      ],
      "execution_count": null,
      "outputs": []
    },
    {
      "cell_type": "code",
      "metadata": {
        "id": "txmoBWzhpFZs"
      },
      "source": [
        "plt.style.use('fivethirtyeight')"
      ],
      "execution_count": null,
      "outputs": []
    },
    {
      "cell_type": "code",
      "metadata": {
        "id": "78fwJ7r_3zQE"
      },
      "source": [
        "import math"
      ],
      "execution_count": null,
      "outputs": []
    },
    {
      "cell_type": "code",
      "metadata": {
        "colab": {
          "base_uri": "https://localhost:8080/"
        },
        "id": "rUPjSJKGnpy0",
        "outputId": "34c1ac9e-d970-4483-e4d1-06c56f34ec69"
      },
      "source": [
        "!pip install yfinance"
      ],
      "execution_count": null,
      "outputs": [
        {
          "output_type": "stream",
          "text": [
            "Collecting yfinance\n",
            "  Downloading yfinance-0.1.63.tar.gz (26 kB)\n",
            "Requirement already satisfied: pandas>=0.24 in /usr/local/lib/python3.7/dist-packages (from yfinance) (1.1.5)\n",
            "Requirement already satisfied: numpy>=1.15 in /usr/local/lib/python3.7/dist-packages (from yfinance) (1.19.5)\n",
            "Requirement already satisfied: requests>=2.20 in /usr/local/lib/python3.7/dist-packages (from yfinance) (2.23.0)\n",
            "Requirement already satisfied: multitasking>=0.0.7 in /usr/local/lib/python3.7/dist-packages (from yfinance) (0.0.9)\n",
            "Collecting lxml>=4.5.1\n",
            "  Downloading lxml-4.6.3-cp37-cp37m-manylinux2014_x86_64.whl (6.3 MB)\n",
            "\u001b[K     |████████████████████████████████| 6.3 MB 14.7 MB/s \n",
            "\u001b[?25hRequirement already satisfied: python-dateutil>=2.7.3 in /usr/local/lib/python3.7/dist-packages (from pandas>=0.24->yfinance) (2.8.1)\n",
            "Requirement already satisfied: pytz>=2017.2 in /usr/local/lib/python3.7/dist-packages (from pandas>=0.24->yfinance) (2018.9)\n",
            "Requirement already satisfied: six>=1.5 in /usr/local/lib/python3.7/dist-packages (from python-dateutil>=2.7.3->pandas>=0.24->yfinance) (1.15.0)\n",
            "Requirement already satisfied: chardet<4,>=3.0.2 in /usr/local/lib/python3.7/dist-packages (from requests>=2.20->yfinance) (3.0.4)\n",
            "Requirement already satisfied: idna<3,>=2.5 in /usr/local/lib/python3.7/dist-packages (from requests>=2.20->yfinance) (2.10)\n",
            "Requirement already satisfied: urllib3!=1.25.0,!=1.25.1,<1.26,>=1.21.1 in /usr/local/lib/python3.7/dist-packages (from requests>=2.20->yfinance) (1.24.3)\n",
            "Requirement already satisfied: certifi>=2017.4.17 in /usr/local/lib/python3.7/dist-packages (from requests>=2.20->yfinance) (2021.5.30)\n",
            "Building wheels for collected packages: yfinance\n",
            "  Building wheel for yfinance (setup.py) ... \u001b[?25l\u001b[?25hdone\n",
            "  Created wheel for yfinance: filename=yfinance-0.1.63-py2.py3-none-any.whl size=23919 sha256=50743b45165f993225eebbb14ffba5525f92537e9258e0b4aab3f5c0670115d6\n",
            "  Stored in directory: /root/.cache/pip/wheels/fe/87/8b/7ec24486e001d3926537f5f7801f57a74d181be25b11157983\n",
            "Successfully built yfinance\n",
            "Installing collected packages: lxml, yfinance\n",
            "  Attempting uninstall: lxml\n",
            "    Found existing installation: lxml 4.2.6\n",
            "    Uninstalling lxml-4.2.6:\n",
            "      Successfully uninstalled lxml-4.2.6\n",
            "Successfully installed lxml-4.6.3 yfinance-0.1.63\n"
          ],
          "name": "stdout"
        }
      ]
    },
    {
      "cell_type": "code",
      "metadata": {
        "id": "JDxn8wTynmLt"
      },
      "source": [
        "import yfinance as yf"
      ],
      "execution_count": null,
      "outputs": []
    },
    {
      "cell_type": "code",
      "metadata": {
        "colab": {
          "base_uri": "https://localhost:8080/"
        },
        "id": "Sz3WVX6XpDGf",
        "outputId": "57b2920d-9743-43bf-f8de-e29b6849beb6"
      },
      "source": [
        "data = yf.download(\"AAPL\", start=\"2012-01-01\", end=\"2020-01-01\")"
      ],
      "execution_count": null,
      "outputs": [
        {
          "output_type": "stream",
          "text": [
            "\r[*********************100%***********************]  1 of 1 completed\n"
          ],
          "name": "stdout"
        }
      ]
    },
    {
      "cell_type": "code",
      "metadata": {
        "colab": {
          "base_uri": "https://localhost:8080/",
          "height": 235
        },
        "id": "MUGcmF3-nwT9",
        "outputId": "2efa3e92-92c2-46aa-f036-ccf88ac9efe2"
      },
      "source": [
        "data.head()"
      ],
      "execution_count": null,
      "outputs": [
        {
          "output_type": "execute_result",
          "data": {
            "text/html": [
              "<div>\n",
              "<style scoped>\n",
              "    .dataframe tbody tr th:only-of-type {\n",
              "        vertical-align: middle;\n",
              "    }\n",
              "\n",
              "    .dataframe tbody tr th {\n",
              "        vertical-align: top;\n",
              "    }\n",
              "\n",
              "    .dataframe thead th {\n",
              "        text-align: right;\n",
              "    }\n",
              "</style>\n",
              "<table border=\"1\" class=\"dataframe\">\n",
              "  <thead>\n",
              "    <tr style=\"text-align: right;\">\n",
              "      <th></th>\n",
              "      <th>Open</th>\n",
              "      <th>High</th>\n",
              "      <th>Low</th>\n",
              "      <th>Close</th>\n",
              "      <th>Adj Close</th>\n",
              "      <th>Volume</th>\n",
              "    </tr>\n",
              "    <tr>\n",
              "      <th>Date</th>\n",
              "      <th></th>\n",
              "      <th></th>\n",
              "      <th></th>\n",
              "      <th></th>\n",
              "      <th></th>\n",
              "      <th></th>\n",
              "    </tr>\n",
              "  </thead>\n",
              "  <tbody>\n",
              "    <tr>\n",
              "      <th>2012-01-03</th>\n",
              "      <td>14.621429</td>\n",
              "      <td>14.732143</td>\n",
              "      <td>14.607143</td>\n",
              "      <td>14.686786</td>\n",
              "      <td>12.610315</td>\n",
              "      <td>302220800</td>\n",
              "    </tr>\n",
              "    <tr>\n",
              "      <th>2012-01-04</th>\n",
              "      <td>14.642857</td>\n",
              "      <td>14.810000</td>\n",
              "      <td>14.617143</td>\n",
              "      <td>14.765714</td>\n",
              "      <td>12.678085</td>\n",
              "      <td>260022000</td>\n",
              "    </tr>\n",
              "    <tr>\n",
              "      <th>2012-01-05</th>\n",
              "      <td>14.819643</td>\n",
              "      <td>14.948214</td>\n",
              "      <td>14.738214</td>\n",
              "      <td>14.929643</td>\n",
              "      <td>12.818838</td>\n",
              "      <td>271269600</td>\n",
              "    </tr>\n",
              "    <tr>\n",
              "      <th>2012-01-06</th>\n",
              "      <td>14.991786</td>\n",
              "      <td>15.098214</td>\n",
              "      <td>14.972143</td>\n",
              "      <td>15.085714</td>\n",
              "      <td>12.952841</td>\n",
              "      <td>318292800</td>\n",
              "    </tr>\n",
              "    <tr>\n",
              "      <th>2012-01-09</th>\n",
              "      <td>15.196429</td>\n",
              "      <td>15.276786</td>\n",
              "      <td>15.048214</td>\n",
              "      <td>15.061786</td>\n",
              "      <td>12.932299</td>\n",
              "      <td>394024400</td>\n",
              "    </tr>\n",
              "  </tbody>\n",
              "</table>\n",
              "</div>"
            ],
            "text/plain": [
              "                 Open       High        Low      Close  Adj Close     Volume\n",
              "Date                                                                        \n",
              "2012-01-03  14.621429  14.732143  14.607143  14.686786  12.610315  302220800\n",
              "2012-01-04  14.642857  14.810000  14.617143  14.765714  12.678085  260022000\n",
              "2012-01-05  14.819643  14.948214  14.738214  14.929643  12.818838  271269600\n",
              "2012-01-06  14.991786  15.098214  14.972143  15.085714  12.952841  318292800\n",
              "2012-01-09  15.196429  15.276786  15.048214  15.061786  12.932299  394024400"
            ]
          },
          "metadata": {
            "tags": []
          },
          "execution_count": 8
        }
      ]
    },
    {
      "cell_type": "code",
      "metadata": {
        "colab": {
          "base_uri": "https://localhost:8080/"
        },
        "id": "CrKgnzkWpyId",
        "outputId": "dd24be27-ce62-42bb-caa9-5aa7f20aca23"
      },
      "source": [
        "data.columns"
      ],
      "execution_count": null,
      "outputs": [
        {
          "output_type": "execute_result",
          "data": {
            "text/plain": [
              "Index(['Open', 'High', 'Low', 'Close', 'Adj Close', 'Volume'], dtype='object')"
            ]
          },
          "metadata": {
            "tags": []
          },
          "execution_count": 9
        }
      ]
    },
    {
      "cell_type": "code",
      "metadata": {
        "colab": {
          "base_uri": "https://localhost:8080/"
        },
        "id": "bkhMuM7_n2Oq",
        "outputId": "dad9cde7-20ac-43bd-f08a-509874c8495a"
      },
      "source": [
        "data.shape"
      ],
      "execution_count": null,
      "outputs": [
        {
          "output_type": "execute_result",
          "data": {
            "text/plain": [
              "(2012, 6)"
            ]
          },
          "metadata": {
            "tags": []
          },
          "execution_count": 10
        }
      ]
    },
    {
      "cell_type": "code",
      "metadata": {
        "colab": {
          "base_uri": "https://localhost:8080/",
          "height": 575
        },
        "id": "tMQys43bpNGD",
        "outputId": "e4cc8acd-5da2-4719-f7eb-7391f963470e"
      },
      "source": [
        "plt.figure(figsize=(16,8))\n",
        "plt.title(\"Closing Price History\")\n",
        "plt.plot(data['Close'])\n",
        "plt.xlabel(\"Data\")\n",
        "plt.ylabel(\"Close Price in USD\")\n",
        "plt.legend()\n",
        "plt.show()"
      ],
      "execution_count": null,
      "outputs": [
        {
          "output_type": "stream",
          "text": [
            "No handles with labels found to put in legend.\n"
          ],
          "name": "stderr"
        },
        {
          "output_type": "display_data",
          "data": {
            "image/png": "[encoded data removed]",
            "text/plain": [
              "<Figure size 1152x576 with 1 Axes>"
            ]
          },
          "metadata": {
            "tags": []
          }
        }
      ]
    },
    {
      "cell_type": "code",
      "metadata": {
        "id": "tSVu5BFxzA7i"
      },
      "source": [
        "df=data[\"Close\"].values"
      ],
      "execution_count": null,
      "outputs": []
    },
    {
      "cell_type": "code",
      "metadata": {
        "id": "ZCgtvIeu8KRh"
      },
      "source": [
        "df1=data.filter([\"Close\"])"
      ],
      "execution_count": null,
      "outputs": []
    },
    {
      "cell_type": "code",
      "metadata": {
        "colab": {
          "base_uri": "https://localhost:8080/"
        },
        "id": "xEj9Qu5T8UQv",
        "outputId": "b7759815-ee4a-47b2-dc32-88695d7c5baf"
      },
      "source": [
        "df1.values"
      ],
      "execution_count": null,
      "outputs": [
        {
          "output_type": "execute_result",
          "data": {
            "text/plain": [
              "array([[14.6867857 ],\n",
              "       [14.76571369],\n",
              "       [14.92964268],\n",
              "       ...,\n",
              "       [72.44999695],\n",
              "       [72.87999725],\n",
              "       [73.41249847]])"
            ]
          },
          "metadata": {
            "tags": []
          },
          "execution_count": 14
        }
      ]
    },
    {
      "cell_type": "code",
      "metadata": {
        "colab": {
          "base_uri": "https://localhost:8080/"
        },
        "id": "8ts8ZN-j6JDQ",
        "outputId": "60497c17-3871-486a-e5f6-98ed02a3cbf1"
      },
      "source": [
        "df"
      ],
      "execution_count": null,
      "outputs": [
        {
          "output_type": "execute_result",
          "data": {
            "text/plain": [
              "array([14.6867857 , 14.76571369, 14.92964268, ..., 72.44999695,\n",
              "       72.87999725, 73.41249847])"
            ]
          },
          "metadata": {
            "tags": []
          },
          "execution_count": 15
        }
      ]
    },
    {
      "cell_type": "code",
      "metadata": {
        "id": "n2VFvU4zqLRT"
      },
      "source": [
        "df=np.reshape(df,(-1,1))"
      ],
      "execution_count": null,
      "outputs": []
    },
    {
      "cell_type": "code",
      "metadata": {
        "colab": {
          "base_uri": "https://localhost:8080/"
        },
        "id": "GyHdHKXFzxWu",
        "outputId": "d8e8a57c-fc4a-4aac-8944-56e439b48d2c"
      },
      "source": [
        "df"
      ],
      "execution_count": null,
      "outputs": [
        {
          "output_type": "execute_result",
          "data": {
            "text/plain": [
              "array([[14.6867857 ],\n",
              "       [14.76571369],\n",
              "       [14.92964268],\n",
              "       ...,\n",
              "       [72.44999695],\n",
              "       [72.87999725],\n",
              "       [73.41249847]])"
            ]
          },
          "metadata": {
            "tags": []
          },
          "execution_count": 17
        }
      ]
    },
    {
      "cell_type": "code",
      "metadata": {
        "id": "lNXHrAMTzQmo"
      },
      "source": [
        "sc=MinMaxScaler(feature_range=(0,1))\n",
        "df_scaled=sc.fit_transform(df)"
      ],
      "execution_count": null,
      "outputs": []
    },
    {
      "cell_type": "code",
      "metadata": {
        "colab": {
          "base_uri": "https://localhost:8080/"
        },
        "id": "ViLq_uIP8xoz",
        "outputId": "53cbd89d-3cff-48b6-9d01-6c8467cb9b2c"
      },
      "source": [
        "df_scaled"
      ],
      "execution_count": null,
      "outputs": [
        {
          "output_type": "execute_result",
          "data": {
            "text/plain": [
              "array([[0.01243228],\n",
              "       [0.01375958],\n",
              "       [0.01651631],\n",
              "       ...,\n",
              "       [0.98381398],\n",
              "       [0.99104513],\n",
              "       [1.        ]])"
            ]
          },
          "metadata": {
            "tags": []
          },
          "execution_count": 19
        }
      ]
    },
    {
      "cell_type": "code",
      "metadata": {
        "id": "16gopk_C8qOe"
      },
      "source": [
        "sc=MinMaxScaler(feature_range=(0,1))\n",
        "df_scaled1=sc.fit_transform(df1)"
      ],
      "execution_count": null,
      "outputs": []
    },
    {
      "cell_type": "code",
      "metadata": {
        "colab": {
          "base_uri": "https://localhost:8080/"
        },
        "id": "-XqRQ6JY0GuG",
        "outputId": "a15fb92c-8476-4e08-adc6-fb33aff26728"
      },
      "source": [
        "df_scaled1"
      ],
      "execution_count": null,
      "outputs": [
        {
          "output_type": "execute_result",
          "data": {
            "text/plain": [
              "array([[0.01243228],\n",
              "       [0.01375958],\n",
              "       [0.01651631],\n",
              "       ...,\n",
              "       [0.98381398],\n",
              "       [0.99104513],\n",
              "       [1.        ]])"
            ]
          },
          "metadata": {
            "tags": []
          },
          "execution_count": 21
        }
      ]
    },
    {
      "cell_type": "code",
      "metadata": {
        "id": "1JtoGgHH3hRX"
      },
      "source": [
        "l=math.ceil(len(df_scaled)*0.8)"
      ],
      "execution_count": null,
      "outputs": []
    },
    {
      "cell_type": "code",
      "metadata": {
        "colab": {
          "base_uri": "https://localhost:8080/"
        },
        "id": "ZZbHSa0GDNTn",
        "outputId": "b135155e-01df-4891-990d-a4f09e98f3e4"
      },
      "source": [
        "l"
      ],
      "execution_count": null,
      "outputs": [
        {
          "output_type": "execute_result",
          "data": {
            "text/plain": [
              "1610"
            ]
          },
          "metadata": {
            "tags": []
          },
          "execution_count": 34
        }
      ]
    },
    {
      "cell_type": "code",
      "metadata": {
        "id": "de9frEcE4x-Y"
      },
      "source": [
        "trained_data=df_scaled1[0:l,:]"
      ],
      "execution_count": null,
      "outputs": []
    },
    {
      "cell_type": "code",
      "metadata": {
        "colab": {
          "base_uri": "https://localhost:8080/"
        },
        "id": "2Y-sqIRn48y5",
        "outputId": "eaaf73aa-184c-45a2-a4db-82a88440f709"
      },
      "source": [
        "trained_data"
      ],
      "execution_count": null,
      "outputs": [
        {
          "output_type": "execute_result",
          "data": {
            "text/plain": [
              "array([[0.01243228],\n",
              "       [0.01375958],\n",
              "       [0.01651631],\n",
              "       ...,\n",
              "       [0.55734467],\n",
              "       [0.55646177],\n",
              "       [0.55826959]])"
            ]
          },
          "metadata": {
            "tags": []
          },
          "execution_count": 24
        }
      ]
    },
    {
      "cell_type": "markdown",
      "source": [
        "The way the input data is presented to the model! CRUX of the whole project."
      ],
      "metadata": {
        "id": "9ttY8I4l7H-H"
      }
    },
    {
      "cell_type": "code",
      "metadata": {
        "colab": {
          "base_uri": "https://localhost:8080/"
        },
        "id": "IGO44F-23drD",
        "outputId": "38443526-fcb9-4d67-f608-4908edbae861"
      },
      "source": [
        "X_train=[]\n",
        "y_train=[]\n",
        "\n",
        "for i in range(60,len(trained_data)):\n",
        "  X_train.append(trained_data[i-60:i,0])\n",
        "  y_train.append(trained_data[i,0])\n",
        "  if i<=61:\n",
        "    print(X_train)\n",
        "\n",
        "    print(y_train)\n",
        "    print(\"\\n\")"
      ],
      "execution_count": null,
      "outputs": [
        {
          "output_type": "stream",
          "text": [
            "[array([0.01243228, 0.01375958, 0.01651631, 0.01914091, 0.01873851,\n",
            "       0.0196454 , 0.01923099, 0.0185343 , 0.01758536, 0.02052227,\n",
            "       0.02317089, 0.02235408, 0.01787965, 0.02214988, 0.01794572,\n",
            "       0.0337113 , 0.03249211, 0.03408368, 0.03752507, 0.03960912,\n",
            "       0.03943495, 0.03879233, 0.04153103, 0.04410756, 0.04702647,\n",
            "       0.05174113, 0.06164491, 0.06179505, 0.06730851, 0.07142856,\n",
            "       0.06434759, 0.06707427, 0.06702022, 0.07466578, 0.07357869,\n",
            "       0.07559067, 0.07920624, 0.08121825, 0.08701398, 0.09123612,\n",
            "       0.09245533, 0.09288177, 0.08566265, 0.0839209 , 0.08417917,\n",
            "       0.09096589, 0.09287577, 0.09697783, 0.10664737, 0.11954812,\n",
            "       0.11713373, 0.11713972, 0.12646695, 0.12938586, 0.12730777,\n",
            "       0.12540992, 0.12343396, 0.12999843, 0.1345029 , 0.13638876])]\n",
            "[0.13172814323221588]\n",
            "\n",
            "\n",
            "[array([0.01243228, 0.01375958, 0.01651631, 0.01914091, 0.01873851,\n",
            "       0.0196454 , 0.01923099, 0.0185343 , 0.01758536, 0.02052227,\n",
            "       0.02317089, 0.02235408, 0.01787965, 0.02214988, 0.01794572,\n",
            "       0.0337113 , 0.03249211, 0.03408368, 0.03752507, 0.03960912,\n",
            "       0.03943495, 0.03879233, 0.04153103, 0.04410756, 0.04702647,\n",
            "       0.05174113, 0.06164491, 0.06179505, 0.06730851, 0.07142856,\n",
            "       0.06434759, 0.06707427, 0.06702022, 0.07466578, 0.07357869,\n",
            "       0.07559067, 0.07920624, 0.08121825, 0.08701398, 0.09123612,\n",
            "       0.09245533, 0.09288177, 0.08566265, 0.0839209 , 0.08417917,\n",
            "       0.09096589, 0.09287577, 0.09697783, 0.10664737, 0.11954812,\n",
            "       0.11713373, 0.11713972, 0.12646695, 0.12938586, 0.12730777,\n",
            "       0.12540992, 0.12343396, 0.12999843, 0.1345029 , 0.13638876]), array([0.01375958, 0.01651631, 0.01914091, 0.01873851, 0.0196454 ,\n",
            "       0.01923099, 0.0185343 , 0.01758536, 0.02052227, 0.02317089,\n",
            "       0.02235408, 0.01787965, 0.02214988, 0.01794572, 0.0337113 ,\n",
            "       0.03249211, 0.03408368, 0.03752507, 0.03960912, 0.03943495,\n",
            "       0.03879233, 0.04153103, 0.04410756, 0.04702647, 0.05174113,\n",
            "       0.06164491, 0.06179505, 0.06730851, 0.07142856, 0.06434759,\n",
            "       0.06707427, 0.06702022, 0.07466578, 0.07357869, 0.07559067,\n",
            "       0.07920624, 0.08121825, 0.08701398, 0.09123612, 0.09245533,\n",
            "       0.09288177, 0.08566265, 0.0839209 , 0.08417917, 0.09096589,\n",
            "       0.09287577, 0.09697783, 0.10664737, 0.11954812, 0.11713373,\n",
            "       0.11713972, 0.12646695, 0.12938586, 0.12730777, 0.12540992,\n",
            "       0.12343396, 0.12999843, 0.1345029 , 0.13638876, 0.13172814])]\n",
            "[0.13172814323221588, 0.12553603586771372]\n",
            "\n",
            "\n"
          ],
          "name": "stdout"
        }
      ]
    },
    {
      "cell_type": "code",
      "metadata": {
        "id": "mRs5ge_lAu-M"
      },
      "source": [
        "X_train=np.array(X_train)\n",
        "y_train=np.array(y_train)"
      ],
      "execution_count": null,
      "outputs": []
    },
    {
      "cell_type": "code",
      "metadata": {
        "id": "4ERsprHTA132"
      },
      "source": [
        "X_train=np.reshape(X_train,(X_train.shape[0],X_train.shape[1],1))"
      ],
      "execution_count": null,
      "outputs": []
    },
    {
      "cell_type": "code",
      "metadata": {
        "id": "ROgyQF5P-jSa"
      },
      "source": [
        "#Architecture of NN:\n",
        "model=Sequential([\n",
        "                 LSTM(50,return_sequences=True,input_shape=(X_train.shape[1],1)),\n",
        "                 LSTM(50,return_sequences=False),  \n",
        "                 Dense(25),\n",
        "                 Dense(1)                  \n",
        "])\n",
        "\n",
        "model.compile(optimizer=\"adam\",loss=\"mean_squared_error\")"
      ],
      "execution_count": null,
      "outputs": []
    },
    {
      "cell_type": "code",
      "metadata": {
        "colab": {
          "base_uri": "https://localhost:8080/"
        },
        "id": "e4lRf5rtCE5p",
        "outputId": "53f7e208-05c1-4f62-da7b-8d33cb0dae19"
      },
      "source": [
        "model.fit(X_train,y_train,epochs=10)"
      ],
      "execution_count": null,
      "outputs": [
        {
          "output_type": "stream",
          "text": [
            "Epoch 1/10\n",
            "49/49 [==============================] - 9s 9ms/step - loss: 0.0043\n",
            "Epoch 2/10\n",
            "49/49 [==============================] - 0s 7ms/step - loss: 3.0089e-04\n",
            "Epoch 3/10\n",
            "49/49 [==============================] - 0s 7ms/step - loss: 3.0526e-04\n",
            "Epoch 4/10\n",
            "49/49 [==============================] - 0s 7ms/step - loss: 2.9797e-04\n",
            "Epoch 5/10\n",
            "49/49 [==============================] - 0s 7ms/step - loss: 2.6491e-04\n",
            "Epoch 6/10\n",
            "49/49 [==============================] - 0s 7ms/step - loss: 2.6300e-04\n",
            "Epoch 7/10\n",
            "49/49 [==============================] - 0s 7ms/step - loss: 2.3267e-04\n",
            "Epoch 8/10\n",
            "49/49 [==============================] - 0s 7ms/step - loss: 2.2393e-04\n",
            "Epoch 9/10\n",
            "49/49 [==============================] - 0s 7ms/step - loss: 2.2093e-04\n",
            "Epoch 10/10\n",
            "49/49 [==============================] - 0s 7ms/step - loss: 2.0125e-04\n"
          ],
          "name": "stdout"
        },
        {
          "output_type": "execute_result",
          "data": {
            "text/plain": [
              "<tensorflow.python.keras.callbacks.History at 0x7fa3d4f19e50>"
            ]
          },
          "metadata": {
            "tags": []
          },
          "execution_count": 29
        }
      ]
    },
    {
      "cell_type": "code",
      "metadata": {
        "colab": {
          "base_uri": "https://localhost:8080/",
          "height": 282
        },
        "id": "wtwwgGGwCaA4",
        "outputId": "88c03fef-8a84-4f32-f099-3bd043b51ca0"
      },
      "source": [
        "plt.plot(range(len(model.history.history[\"loss\"])),model.history.history[\"loss\"])\n",
        "plt.show()"
      ],
      "execution_count": null,
      "outputs": [
        {
          "output_type": "display_data",
          "data": {
            "image/png": "[encoded data removed]",
            "text/plain": [
              "<Figure size 432x288 with 1 Axes>"
            ]
          },
          "metadata": {
            "tags": []
          }
        }
      ]
    },
    {
      "cell_type": "code",
      "metadata": {
        "id": "HgGP8YlgC5nC"
      },
      "source": [
        "test_data=df_scaled[l-60:,:]\n",
        "\n",
        "X_test=[]\n",
        "y_test=df_scaled[l:,:]\n",
        "for i in range(60,len(test_data)):\n",
        "  X_test.append(test_data[i-60:i,0])"
      ],
      "execution_count": null,
      "outputs": []
    },
    {
      "cell_type": "code",
      "metadata": {
        "id": "LqlPa3sxElpK"
      },
      "source": [
        "X_test=np.array(X_test)"
      ],
      "execution_count": null,
      "outputs": []
    },
    {
      "cell_type": "code",
      "metadata": {
        "id": "60FzDbjEErlx"
      },
      "source": [
        "X_test=np.reshape(X_test,(X_test.shape[0],X_test.shape[1],1))"
      ],
      "execution_count": null,
      "outputs": []
    },
    {
      "cell_type": "code",
      "metadata": {
        "id": "OVbX56C7FKNJ"
      },
      "source": [
        "pred=model.predict(X_test)"
      ],
      "execution_count": null,
      "outputs": []
    },
    {
      "cell_type": "code",
      "metadata": {
        "id": "aojgD315FWFl"
      },
      "source": [
        "pred=sc.inverse_transform(pred)"
      ],
      "execution_count": null,
      "outputs": []
    },
    {
      "cell_type": "code",
      "metadata": {
        "id": "XoGXvkYDF0hJ"
      },
      "source": [
        ""
      ],
      "execution_count": null,
      "outputs": []
    },
    {
      "cell_type": "markdown",
      "source": [
        "Aiming to minimize RMSE is the Goal! "
      ],
      "metadata": {
        "id": "0KWphzHV6bwS"
      }
    },
    {
      "cell_type": "code",
      "metadata": {
        "id": "hO-HfCvtF0p0"
      },
      "source": [
        "rmse=np.sqrt(np.mean(((pred- y_test)**2)))"
      ],
      "execution_count": null,
      "outputs": []
    },
    {
      "cell_type": "code",
      "metadata": {
        "colab": {
          "base_uri": "https://localhost:8080/"
        },
        "id": "QV9GdofDF_UQ",
        "outputId": "a8ee7fc5-a0e9-455c-950a-42360339f8fa"
      },
      "source": [
        "rmse"
      ],
      "execution_count": null,
      "outputs": [
        {
          "output_type": "execute_result",
          "data": {
            "text/plain": [
              "52.10355281738891"
            ]
          },
          "metadata": {
            "tags": []
          },
          "execution_count": 44
        }
      ]
    },
    {
      "cell_type": "code",
      "metadata": {
        "colab": {
          "base_uri": "https://localhost:8080/",
          "height": 660
        },
        "id": "QKRjIo-GG4Pb",
        "outputId": "32201a20-adf8-480f-bc08-cccc93891fa3"
      },
      "source": [
        "#Visualising the predictions:\n",
        "\n",
        "train=data[0:l]\n",
        "valid=data[l:]\n",
        "valid[\"Predictions\"]=pred\n",
        "\n",
        "plt.figure(figsize=(16,8))\n",
        "plt.title(\"Model\")\n",
        "plt.xlabel(\"Date\")\n",
        "plt.ylabel(\"Stock Price in USD\")\n",
        "plt.plot(train[\"Close\"])\n",
        "plt.plot(valid[[\"Close\",\"Predictions\"]])\n",
        "plt.legend([\"Train\",\"Val\",\"Predictions\"])\n",
        "plt.show()"
      ],
      "execution_count": null,
      "outputs": [
        {
          "output_type": "stream",
          "text": [
            "/usr/local/lib/python3.7/dist-packages/ipykernel_launcher.py:5: SettingWithCopyWarning: \n",
            "A value is trying to be set on a copy of a slice from a DataFrame.\n",
            "Try using .loc[row_indexer,col_indexer] = value instead\n",
            "\n",
            "See the caveats in the documentation: https://pandas.pydata.org/pandas-docs/stable/user_guide/indexing.html#returning-a-view-versus-a-copy\n",
            "  \"\"\"\n"
          ],
          "name": "stderr"
        },
        {
          "output_type": "display_data",
          "data": {
            "image/png": "[encoded data removed]",
            "text/plain": [
              "<Figure size 1152x576 with 1 Axes>"
            ]
          },
          "metadata": {
            "tags": []
          }
        }
      ]
    },
    {
      "cell_type": "code",
      "metadata": {
        "id": "vjVD9_OWMMs6"
      },
      "source": [
        ""
      ],
      "execution_count": null,
      "outputs": []
    }
  ]
}