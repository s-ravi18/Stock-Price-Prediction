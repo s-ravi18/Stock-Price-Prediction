{
 "cells": [
  {
   "cell_type": "markdown",
   "metadata": {},
   "source": [
    "## Predicting the future price of Apple Company using LSTM:"
   ]
  },
  {
   "cell_type": "code",
   "execution_count": null,
   "metadata": {},
   "outputs": [],
   "source": [
    "#Importing the reqd libraries:\n",
    "import numpy as np\n",
    "import matplotlib.pyplot as plt\n",
    "import pandas as pd\n",
    "import math\n",
    "\n",
    "import tensorflow as tf\n",
    "from tensorflow.keras.models import Sequential\n",
    "from tensorflow.keras.layers import LSTM,Dropout,Dense\n",
    "\n",
    "from sklearn.preprocessing import MinMaxScaler\n",
    "\n",
    "!pip install yfinance\n",
    "import yfinance as yf"
   ]
  },
  {
   "cell_type": "code",
   "execution_count": null,
   "metadata": {},
   "outputs": [],
   "source": [
    "### Setting the Style for plots\n",
    "plt.style.use('fivethirtyeight')"
   ]
  },
  {
   "cell_type": "code",
   "execution_count": null,
   "metadata": {},
   "outputs": [],
   "source": [
    "### Getting the data from yfinance:\n",
    "### AAPL is the short form for Apple.\n",
    "data = yf.download(\"AAPL\", start=\"2005-01-01\", end=\"2020-01-01\")"
   ]
  },
  {
   "cell_type": "markdown",
   "metadata": {},
   "source": [
    "## EDA:"
   ]
  },
  {
   "cell_type": "code",
   "execution_count": null,
   "metadata": {},
   "outputs": [],
   "source": [
    "data.head()"
   ]
  },
  {
   "cell_type": "markdown",
   "metadata": {},
   "source": [
    "Clearly it represents time series data because indices are of time"
   ]
  },
  {
   "cell_type": "code",
   "execution_count": null,
   "metadata": {},
   "outputs": [],
   "source": [
    "data.columns"
   ]
  },
  {
   "cell_type": "code",
   "execution_count": null,
   "metadata": {},
   "outputs": [],
   "source": [
    "data.shape"
   ]
  },
  {
   "cell_type": "code",
   "execution_count": null,
   "metadata": {},
   "outputs": [],
   "source": [
    "### Checking for Missing Values:\n",
    "data.isnull().sum()"
   ]
  },
  {
   "cell_type": "code",
   "execution_count": null,
   "metadata": {},
   "outputs": [],
   "source": [
    "### Visualising the initial distribution of the data to check if it makes sense:\n",
    "### Checking the Closing Price\n",
    "\n",
    "fig,ax=plt.subplots(2,1,figsize=(16,16))\n",
    "\n",
    "ax[0].set_title(\"Closing Price History\")\n",
    "ax[0].plot(data['Close'])\n",
    "ax[0].set_xlabel(\"Data\")\n",
    "ax[0].set_ylabel(\"Closing Price in USD\")\n",
    "ax[0].legend()\n",
    "\n",
    "### Checking the Closing Price\n",
    "\n",
    "ax[1].set_title(\"Opening Price History\")\n",
    "ax[1].plot(data['Open'])\n",
    "ax[1].set_xlabel(\"Data\")\n",
    "ax[1].set_ylabel(\"Opening Price in USD\")\n",
    "ax[1].legend()\n",
    "\n",
    "fig.show()"
   ]
  },
  {
   "cell_type": "code",
   "execution_count": null,
   "metadata": {},
   "outputs": [],
   "source": [
    "### Combining the above plots into one:\n",
    "plt.figure(figsize=(16,7))\n",
    "\n",
    "plt.title(\"Closing Price History/Opening Price History\")\n",
    "plt.plot(data['Close'],\"b\")\n",
    "plt.plot(data['Open'],\"y\")\n",
    "plt.xlabel(\"Data\")\n",
    "plt.ylabel(\"Closing Price in USD\")\n",
    "plt.legend()\n",
    "\n",
    "plt.show()  "
   ]
  },
  {
   "cell_type": "code",
   "execution_count": null,
   "metadata": {},
   "outputs": [],
   "source": [
    "### Zooming into one section, say dates between 2005 and 2007:\n",
    "\n",
    "mask1 = (data.index >= '2005-01-01') & (data.index <= '2007-01-01')\n",
    "\n",
    "fig,ax=plt.subplots(2,1,figsize=(16,16))\n",
    "\n",
    "ax[0].set_title(\"Closing Price History/Opening Price History for the period 2005-2006\")\n",
    "ax[0].plot(data['Close'].loc[mask1],\"b\")\n",
    "ax[0].plot(data['Open'].loc[mask1],\"y\")\n",
    "ax[0].set_xlabel(\"Data\")\n",
    "ax[0].set_ylabel(\"Closing Price in USD\")\n",
    "ax[0].legend()\n",
    "\n",
    "### Zooming further into one section, say dates in 2005:\n",
    "mask2 = (data.index >= '2005-01-01') & (data.index <= '2006-01-01')\n",
    "\n",
    "ax[1].set_title(\"Closing Price History/Opening Price History for 2005\")\n",
    "ax[1].plot(data['Close'].loc[mask2],\"b\")\n",
    "ax[1].plot(data['Open'].loc[mask2],\"y\")\n",
    "ax[1].set_xlabel(\"Data\")\n",
    "ax[1].set_ylabel(\"Closing Price in USD\")\n",
    "ax[1].legend()\n",
    "\n",
    "fig.show()"
   ]
  },
  {
   "cell_type": "code",
   "execution_count": null,
   "metadata": {},
   "outputs": [],
   "source": []
  },
  {
   "cell_type": "code",
   "execution_count": null,
   "metadata": {},
   "outputs": [],
   "source": []
  }
 ],
 "metadata": {
  "language_info": {
   "name": "python"
  },
  "orig_nbformat": 4
 },
 "nbformat": 4,
 "nbformat_minor": 2
}
